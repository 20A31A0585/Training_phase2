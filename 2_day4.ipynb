{
 "cells": [
  {
   "cell_type": "code",
   "execution_count": 1,
   "id": "ec37c918",
   "metadata": {},
   "outputs": [
    {
     "name": "stdout",
     "output_type": "stream",
     "text": [
      "[2, 17, 34, 1, 56, 45, 23]\n",
      "[1, 2, 17, 23, 34, 45, 56]\n"
     ]
    }
   ],
   "source": [
    "# SELECTION SORT - sorting from left to right\n",
    "\n",
    "def selection(arr):\n",
    "    \n",
    "    for i in range(len(arr)):\n",
    "        min_ind = i\n",
    "        for j in range(i+1,len(arr)):\n",
    "            if arr[min_ind] > arr[j]:\n",
    "                min_ind = j\n",
    "        arr[i] , arr[min_ind] = arr[min_ind] , arr[i]\n",
    "    return arr\n",
    "\n",
    "arr = [2,17,34,1,56,45,23]\n",
    "print(arr)\n",
    "print(selection(arr))"
   ]
  },
  {
   "cell_type": "code",
   "execution_count": 3,
   "id": "03da8a61",
   "metadata": {},
   "outputs": [
    {
     "name": "stdout",
     "output_type": "stream",
     "text": [
      "[5, 2, 4, 3, 7, 1]\n",
      "[1, 2, 3, 4, 5, 7]\n"
     ]
    }
   ],
   "source": [
    "# INSERTION SORT - sorting from right to left\n",
    "\n",
    "def insertion(arr):\n",
    "    \n",
    "    for i in range(1,len(arr)):\n",
    "        j = i\n",
    "        while arr[j-1] > arr[j] and j > 0:\n",
    "            arr[j-1] , arr[j] = arr[j] , arr[j-1]\n",
    "            j -= 1\n",
    "    return arr\n",
    "\n",
    "arr = [5,2,4,3,7,1]\n",
    "print(arr)\n",
    "print(insertion(arr))"
   ]
  },
  {
   "cell_type": "code",
   "execution_count": 4,
   "id": "f5d69686",
   "metadata": {},
   "outputs": [
    {
     "name": "stdout",
     "output_type": "stream",
     "text": [
      "[50, 45, 34, 23, 78, 90, 1, 5, 35]\n",
      "[1, 5, 23, 34, 35, 45, 50, 78, 90]\n"
     ]
    }
   ],
   "source": [
    "# MERGE SORT - divide and conquer\n",
    "\n",
    "def merge(arr,left,right,middle):\n",
    "    \n",
    "    left_arr = arr[left : middle+1]\n",
    "    right_arr = arr[middle+1 : right+1]\n",
    "    left_ind = 0\n",
    "    right_ind = 0\n",
    "    ind = left\n",
    "    \n",
    "    while left_ind < len(left_arr) and right_ind < len(right_arr):\n",
    "        if left_arr[left_ind] < right_arr[right_ind]:\n",
    "            arr[ind] = left_arr[left_ind]\n",
    "            left_ind += 1\n",
    "        else:\n",
    "            arr[ind] = right_arr[right_ind]\n",
    "            right_ind += 1\n",
    "        ind += 1\n",
    "        \n",
    "    while left_ind < len(left_arr):\n",
    "        arr[ind] = left_arr[left_ind]\n",
    "        left_ind += 1\n",
    "        ind += 1\n",
    "        \n",
    "    while right_ind < len(right_arr):\n",
    "        arr[ind] = right_arr[right_ind]\n",
    "        right_ind += 1\n",
    "        ind += 1    \n",
    "\n",
    "def merge_sort(arr,left,right):\n",
    "    \n",
    "    if left >= right:\n",
    "        return \n",
    "    else:\n",
    "        mid = (left+right)//2\n",
    "        merge_sort(arr,left,mid)\n",
    "        merge_sort(arr,mid+1,right)\n",
    "        merge(arr,left,right,mid)\n",
    "        \n",
    "arr = [50,45,34,23,78,90,1,5,35]\n",
    "print(arr)\n",
    "left = 0\n",
    "right = len(arr)-1\n",
    "merge_sort(arr,left,right)\n",
    "print(arr)"
   ]
  },
  {
   "cell_type": "code",
   "execution_count": 5,
   "id": "ebef288e",
   "metadata": {},
   "outputs": [
    {
     "name": "stdout",
     "output_type": "stream",
     "text": [
      "[30, 20, 50, 10, 60, 40]\n",
      "[10, 20, 30, 40, 50, 60]\n"
     ]
    }
   ],
   "source": [
    "# QUICK SORT\n",
    "\n",
    "def quick_sort(arr):\n",
    "    if len(arr) <=1:\n",
    "        return arr\n",
    "    pivot = arr[0]\n",
    "    left_arr = [i for i in arr[1:] if i<=pivot]\n",
    "    right_arr = [i for i in arr[1:] if i>pivot]\n",
    "    return quick_sort(left_arr) + [pivot] + quick_sort(right_arr)\n",
    "    \n",
    "arr = [30,20,50,10,60,40]\n",
    "print(arr)\n",
    "res = quick_sort(arr)\n",
    "print(res)"
   ]
  },
  {
   "cell_type": "code",
   "execution_count": null,
   "id": "2e79f3f1",
   "metadata": {},
   "outputs": [],
   "source": []
  }
 ],
 "metadata": {
  "kernelspec": {
   "display_name": "Python 3 (ipykernel)",
   "language": "python",
   "name": "python3"
  },
  "language_info": {
   "codemirror_mode": {
    "name": "ipython",
    "version": 3
   },
   "file_extension": ".py",
   "mimetype": "text/x-python",
   "name": "python",
   "nbconvert_exporter": "python",
   "pygments_lexer": "ipython3",
   "version": "3.9.12"
  }
 },
 "nbformat": 4,
 "nbformat_minor": 5
}
