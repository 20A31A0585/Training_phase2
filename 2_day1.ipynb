{
 "cells": [
  {
   "cell_type": "code",
   "execution_count": 20,
   "id": "8ee87e4b",
   "metadata": {},
   "outputs": [
    {
     "name": "stdout",
     "output_type": "stream",
     "text": [
      "[10, 20, 30, 40, 50]\n",
      "stack overflow\n",
      "30\n",
      "False\n",
      "[]\n",
      "stack underflow\n",
      "stack is empty\n"
     ]
    }
   ],
   "source": [
    "class Stack:\n",
    "    arr=[]\n",
    "    size=5\n",
    "    def stack_push(self,element):\n",
    "        if len(self.arr)<self.size:\n",
    "            self.arr.append(element)\n",
    "        else:\n",
    "            print(\"stack overflow\")\n",
    "    def stack_pop(self):\n",
    "        if len(self.arr)!=0:\n",
    "             self.arr.pop()\n",
    "        else:\n",
    "            print(\"stack underflow\")\n",
    "    def stack_peek(self):\n",
    "        if len(self.arr)!=0: \n",
    "            return self.arr[-1]\n",
    "        else:\n",
    "            return \"stack is empty\"\n",
    "    def isEmpty(self):\n",
    "        if len(self.arr)!=0:\n",
    "            return False\n",
    "        else:\n",
    "            return True\n",
    "s=Stack()\n",
    "s.stack_push(10)\n",
    "s.stack_push(20)\n",
    "s.stack_push(30)\n",
    "s.stack_push(40)\n",
    "s.stack_push(50)\n",
    "print(s.arr)\n",
    "s.stack_push(60)\n",
    "s.stack_pop()\n",
    "s.stack_pop()\n",
    "print(s.stack_peek())\n",
    "print(s.isEmpty())\n",
    "s.stack_pop()\n",
    "s.stack_pop()\n",
    "s.stack_pop()\n",
    "print(s.arr)\n",
    "s.stack_pop()\n",
    "print(s.stack_peek())"
   ]
  },
  {
   "cell_type": "code",
   "execution_count": 23,
   "id": "7847e4a9",
   "metadata": {},
   "outputs": [
    {
     "name": "stdout",
     "output_type": "stream",
     "text": [
      "[10, 20, 30, 40, 50]\n",
      "queue overflow\n",
      "50\n",
      "40\n",
      "False\n",
      "30\n",
      "20\n",
      "10\n",
      "[]\n",
      "queue underflow\n"
     ]
    }
   ],
   "source": [
    "class Queue:\n",
    "    arr=[]\n",
    "    size=5\n",
    "    def Enqueue(self,element):\n",
    "        if len(self.arr)<self.size:\n",
    "            self.arr.append(element)\n",
    "        else:\n",
    "            print(\"queue overflow\")\n",
    "    def Dequeue(self):\n",
    "        if len(self.arr)!=0:\n",
    "             self.arr.pop(0)\n",
    "        else:\n",
    "            print(\"queue underflow\")\n",
    "    def isEmpty(self):\n",
    "        if len(self.arr)!=0:\n",
    "            return False\n",
    "        else:\n",
    "            return True\n",
    "s=Queue()\n",
    "s.Enqueue(10)\n",
    "s.Enqueue(20)\n",
    "s.Enqueue(30)\n",
    "s.Enqueue(40)\n",
    "s.Enqueue(50)\n",
    "print(s.arr)\n",
    "s.Enqueue(60)\n",
    "s.Dequeue()\n",
    "s.Dequeue()\n",
    "print(s.isEmpty())\n",
    "s.Dequeue()\n",
    "s.Dequeue()\n",
    "s.Dequeue()\n",
    "print(s.arr)\n",
    "s.Dequeue()"
   ]
  },
  {
   "cell_type": "code",
   "execution_count": 1,
   "id": "dadb5fb6",
   "metadata": {},
   "outputs": [
    {
     "name": "stdout",
     "output_type": "stream",
     "text": [
      "[1, 2, 3, 4, 5, 6, 7, 8, 9, 10]\n",
      "found: 2\n"
     ]
    }
   ],
   "source": [
    "##### USING WHILE LOOP\n",
    "#binary search\n",
    "#they are two methods to do binary search\n",
    "#while loop and recurssion\n",
    "\n",
    "arr=[i for i in range(1,11)]\n",
    "print(arr)\n",
    "key=3\n",
    "low=0\n",
    "high=len(arr)-1\n",
    "found=False\n",
    "while low<=high:\n",
    "    mid=(low+high)//2\n",
    "    if arr[mid]==key:\n",
    "        print(\"found:\",mid)\n",
    "        found=True\n",
    "        break\n",
    "    elif key < arr[mid]:\n",
    "        high=mid-1\n",
    "    elif key > arr[mid]:\n",
    "        low=mid+1\n",
    "    else:\n",
    "        print(\"element not found\")\n",
    "    "
   ]
  },
  {
   "cell_type": "code",
   "execution_count": 7,
   "id": "d678b2f8",
   "metadata": {},
   "outputs": [
    {
     "name": "stdout",
     "output_type": "stream",
     "text": [
      "Temp: []\n",
      "Original: [50, 40, 30, 20, 10]\n"
     ]
    }
   ],
   "source": [
    "#--------------2-implement the functionality of stack using only queue-------\n",
    "class Queue:\n",
    "    temp=[]\n",
    "    original=[]\n",
    "    def enqueue(self,element):\n",
    "        self.temp.append(element)     #step 1\n",
    "        while len(self.original)!=0:   #step 2\n",
    "            pop_element=self.original.pop(0)\n",
    "            self.temp.append(pop_element)\n",
    "        while len(self.temp)!=0:#step 3\n",
    "            pop_element=self.temp.pop(0)\n",
    "            self.original.append(pop_element)\n",
    "\n",
    "    def dequeue(self):\n",
    "        return self.original.pop(0)\n",
    "    def printQueue(self):\n",
    "        print(\"Temp:\",self.temp)\n",
    "        print(\"Original:\",self.original)\n",
    "\n",
    "ob= Queue()\n",
    "ob.enqueue(10)\n",
    "ob.enqueue(20)\n",
    "ob.enqueue(30)\n",
    "ob.enqueue(40)\n",
    "ob.enqueue(50)\n",
    "ob.printQueue()"
   ]
  },
  {
   "cell_type": "code",
   "execution_count": 6,
   "id": "73cf3de7",
   "metadata": {},
   "outputs": [
    {
     "name": "stdout",
     "output_type": "stream",
     "text": [
      "1 3 5 8\n",
      "5\n",
      "element is found at 2\n"
     ]
    }
   ],
   "source": [
    "def binary_search(l,low,high,key):\n",
    "    while(low<=high):\n",
    "        mid=(low+high)//2\n",
    "        if(l[mid]<key):\n",
    "            low=mid+1\n",
    "            return binary_search(arr,low,high,key)\n",
    "        elif(l[mid]>key):\n",
    "            high=mid-1\n",
    "            return binary_search(arr,low,high,key)\n",
    "        else:\n",
    "            print(\"element is found at\",mid)\n",
    "            c=1\n",
    "            return \n",
    "    print(\"element is not found\")\n",
    "    return\n",
    "arr=list(map(int,input().split()))\n",
    "low=0\n",
    "high=len(arr)-1\n",
    "key=int(input())\n",
    "res=binary_search(arr,low,high,key)"
   ]
  },
  {
   "cell_type": "code",
   "execution_count": null,
   "id": "fcea3283",
   "metadata": {},
   "outputs": [],
   "source": []
  }
 ],
 "metadata": {
  "kernelspec": {
   "display_name": "Python 3 (ipykernel)",
   "language": "python",
   "name": "python3"
  },
  "language_info": {
   "codemirror_mode": {
    "name": "ipython",
    "version": 3
   },
   "file_extension": ".py",
   "mimetype": "text/x-python",
   "name": "python",
   "nbconvert_exporter": "python",
   "pygments_lexer": "ipython3",
   "version": "3.9.12"
  }
 },
 "nbformat": 4,
 "nbformat_minor": 5
}
