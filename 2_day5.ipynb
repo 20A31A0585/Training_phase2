{
 "cells": [
  {
   "cell_type": "raw",
   "id": "9d7e5c13",
   "metadata": {},
   "source": [
    " GRAPHS - These are a non linear datastructure which are having vertices or nodes that are connected via edges"
   ]
  },
  {
   "cell_type": "code",
   "execution_count": 8,
   "id": "0e6d5c48",
   "metadata": {},
   "outputs": [
    {
     "name": "stdout",
     "output_type": "stream",
     "text": [
      "e d b c a "
     ]
    }
   ],
   "source": [
    "def BFS(graph,start):\n",
    "    q = [start]\n",
    "    visited = [start]\n",
    "    while len(q)!=0:\n",
    "        ele = q.pop(0)\n",
    "        print(ele,end=' ')\n",
    "        for i in graph[ele]:\n",
    "            if i not in visited: \n",
    "                q.append(i)\n",
    "                visited.append(i)\n",
    "                \n",
    "graph_elements = {\n",
    "    'a' : ['b','c'],\n",
    "    'b' : ['a','d'],\n",
    "    'c' : ['a','d'],\n",
    "    'd' : ['e','b','c'],\n",
    "    'e' : ['d']\n",
    "}\n",
    "BFS(graph_elements,'e')"
   ]
  },
  {
   "cell_type": "code",
   "execution_count": 12,
   "id": "bb61a6cf",
   "metadata": {},
   "outputs": [
    {
     "name": "stdout",
     "output_type": "stream",
     "text": [
      "a->b->c->a\n",
      "invalid\n"
     ]
    }
   ],
   "source": [
    "\n",
    "graph_elements = {\n",
    "    'a' : ['b','d'],\n",
    "    'b' : ['c'],\n",
    "    'c' : ['d','e']\n",
    "}\n",
    "l=input().split('->')\n",
    "c=0\n",
    "for i in range(len(l)-1):\n",
    "    if l[i] in graph_elements:\n",
    "        if l[i+1] in graph_elements[l[i]]:\n",
    "            c+=1\n",
    "            \n",
    "        else:\n",
    "            print('invalid')\n",
    "            break\n",
    "            \n",
    "    else:\n",
    "        print('invalid')\n",
    "        break\n",
    "if c==len(l)-1:\n",
    "    print('valid')"
   ]
  },
  {
   "cell_type": "code",
   "execution_count": null,
   "id": "cad738ce",
   "metadata": {},
   "outputs": [],
   "source": []
  }
 ],
 "metadata": {
  "kernelspec": {
   "display_name": "Python 3 (ipykernel)",
   "language": "python",
   "name": "python3"
  },
  "language_info": {
   "codemirror_mode": {
    "name": "ipython",
    "version": 3
   },
   "file_extension": ".py",
   "mimetype": "text/x-python",
   "name": "python",
   "nbconvert_exporter": "python",
   "pygments_lexer": "ipython3",
   "version": "3.9.12"
  }
 },
 "nbformat": 4,
 "nbformat_minor": 5
}
